{
 "cells": [
  {
   "cell_type": "code",
   "execution_count": null,
   "metadata": {},
   "outputs": [],
   "source": [
    "# https://en.wikipedia.org/wiki/Harvey_Balls\n",
    "\n",
    "%matplotlib inline\n",
    "import matplotlib.pyplot as plt\n",
    "import matplotlib.path as mpath\n",
    "import matplotlib.patches as mpatches\n",
    "import re\n",
    "import numpy as np\n",
    "\n",
    "def cutwedge(wedge, r=0.95):\n",
    "    path = wedge.get_path()\n",
    "    verts = path.vertices[:-3]\n",
    "    codes = path.codes[:-3]\n",
    "    new_verts = np.vstack((verts , verts[::-1]*r, verts[0,:]))\n",
    "    new_codes =  np.concatenate((codes , codes[::-1], np.array([79])) )\n",
    "    new_codes[len(codes)] = 2\n",
    "    new_path = mpath.Path(new_verts, new_codes)\n",
    "    new_patch = mpatches.PathPatch(new_path)\n",
    "    new_patch.update_from(wedge)\n",
    "    wedge.set_visible(False)\n",
    "    wedge.axes.add_patch(new_patch)\n",
    "    return new_patch\n",
    "\n",
    "color = \"black\"\n",
    "colors = [ color, color ]\n",
    "sets = [x/100. for x in range(0,101)]\n",
    "#print(sets)\n",
    "for n in sets:\n",
    "    fig, ax = plt.subplots()\n",
    "    sizes = [ n, 1-n ]\n",
    "    # perc = re.sub(\"\\.\",\"\",\"%0.2f\" % n) + \"-\" + color + \".svg\"\n",
    "    perc = re.sub(\"\\.\",\"\",\"%0.2f\" % n) + \"-\" + color + \".png\"\n",
    "    print(perc)\n",
    "    wedges, text  = ax.pie(sizes, colors=colors, startangle=90, counterclock=False)\n",
    "    # wedges[1].set_visible(False) # use for svg\n",
    "    cutwedge(wedges[1])\n",
    "    plt.axis('equal')\n",
    "    plt.savefig(perc, transparent=True)\n",
    "    plt.close()\n"
   ]
  },
  {
   "cell_type": "code",
   "execution_count": null,
   "metadata": {},
   "outputs": [],
   "source": []
  }
 ],
 "metadata": {
  "kernelspec": {
   "display_name": "Python 2",
   "language": "python",
   "name": "python2"
  },
  "language_info": {
   "codemirror_mode": {
    "name": "ipython",
    "version": 3
   },
   "file_extension": ".py",
   "mimetype": "text/x-python",
   "name": "python",
   "nbconvert_exporter": "python",
   "pygments_lexer": "ipython3",
   "version": "3.6.2"
  }
 },
 "nbformat": 4,
 "nbformat_minor": 2
}
